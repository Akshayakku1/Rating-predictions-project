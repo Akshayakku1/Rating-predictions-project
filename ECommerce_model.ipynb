{
 "cells": [
  {
   "cell_type": "markdown",
   "metadata": {},
   "source": [
    "# Review Model\n"
   ]
  },
  {
   "cell_type": "code",
   "execution_count": 1,
   "metadata": {},
   "outputs": [
    {
     "name": "stderr",
     "output_type": "stream",
     "text": [
      "UsageError: unrecognized arguments: # Plots show up in notebook\n"
     ]
    }
   ],
   "source": [
    "import pandas as pd\n",
    "import matplotlib.pyplot as plt\n",
    "import numpy as np\n",
    "import seaborn as sns\n",
    "import math\n",
    "import warnings\n",
    "warnings.filterwarnings('ignore') # Hides warning\n",
    "warnings.filterwarnings(\"ignore\", category=DeprecationWarning)\n",
    "warnings.filterwarnings(\"ignore\",category=UserWarning)\n",
    "sns.set_style(\"whitegrid\") # Plotting style\n",
    "%matplotlib inline # Plots show up in notebook\n",
    "np.random.seed(7) # seeding random number generator"
   ]
  },
  {
   "cell_type": "code",
   "execution_count": 11,
   "metadata": {},
   "outputs": [],
   "source": [
    "df = pd.read_excel(r\"C:\\Users\\User\\Desktop\\Akshay project\\Flip robo\\Amazon_review_master.xlsx\")"
   ]
  },
  {
   "cell_type": "code",
   "execution_count": 12,
   "metadata": {},
   "outputs": [
    {
     "data": {
      "text/html": [
       "<div>\n",
       "<style scoped>\n",
       "    .dataframe tbody tr th:only-of-type {\n",
       "        vertical-align: middle;\n",
       "    }\n",
       "\n",
       "    .dataframe tbody tr th {\n",
       "        vertical-align: top;\n",
       "    }\n",
       "\n",
       "    .dataframe thead th {\n",
       "        text-align: right;\n",
       "    }\n",
       "</style>\n",
       "<table border=\"1\" class=\"dataframe\">\n",
       "  <thead>\n",
       "    <tr style=\"text-align: right;\">\n",
       "      <th></th>\n",
       "      <th>products</th>\n",
       "      <th>title</th>\n",
       "      <th>rating</th>\n",
       "      <th>body</th>\n",
       "      <th>Reference</th>\n",
       "      <th>Type</th>\n",
       "      <th>Company</th>\n",
       "      <th>asins</th>\n",
       "      <th>Model</th>\n",
       "      <th>Webscraped by</th>\n",
       "      <th>Website</th>\n",
       "      <th>Website link</th>\n",
       "    </tr>\n",
       "  </thead>\n",
       "  <tbody>\n",
       "    <tr>\n",
       "      <th>0</th>\n",
       "      <td>Yamaha YHT-1840 4K Ultra HD 5.1-Channel Home T...</td>\n",
       "      <td>Budget AV receiver struggling 4K passthrough!!</td>\n",
       "      <td>4</td>\n",
       "      <td>I got this for ₹27k in Amazon festival sale. C...</td>\n",
       "      <td>Yamaha Home Theatre</td>\n",
       "      <td>Home Theatre</td>\n",
       "      <td>Yamaha</td>\n",
       "      <td>B005PB2T01</td>\n",
       "      <td>YHT-1840</td>\n",
       "      <td>Akshay</td>\n",
       "      <td>Amazon</td>\n",
       "      <td>www.amazon.in</td>\n",
       "    </tr>\n",
       "    <tr>\n",
       "      <th>1</th>\n",
       "      <td>Yamaha YHT-1840 4K Ultra HD 5.1-Channel Home T...</td>\n",
       "      <td>WARRANTY VOID FOR ONLINE PURCHASE!!!</td>\n",
       "      <td>4</td>\n",
       "      <td>First of all, don't buy Yamaha sound systems o...</td>\n",
       "      <td>Yamaha Home Theatre</td>\n",
       "      <td>Home Theatre</td>\n",
       "      <td>Yamaha</td>\n",
       "      <td>B01KH67HG3</td>\n",
       "      <td>YHT-1840</td>\n",
       "      <td>Akshay</td>\n",
       "      <td>Amazon</td>\n",
       "      <td>www.amazon.in</td>\n",
       "    </tr>\n",
       "    <tr>\n",
       "      <th>2</th>\n",
       "      <td>Yamaha YHT-1840 4K Ultra HD 5.1-Channel Home T...</td>\n",
       "      <td>Setup information to get dolby sound effect</td>\n",
       "      <td>5</td>\n",
       "      <td>Absolutely in this price segment it is a good ...</td>\n",
       "      <td>Yamaha Home Theatre</td>\n",
       "      <td>Home Theatre</td>\n",
       "      <td>Yamaha</td>\n",
       "      <td>B72HSF562A</td>\n",
       "      <td>YHT-1840</td>\n",
       "      <td>Akshay</td>\n",
       "      <td>Amazon</td>\n",
       "      <td>www.amazon.in</td>\n",
       "    </tr>\n",
       "    <tr>\n",
       "      <th>3</th>\n",
       "      <td>Yamaha YHT-1840 4K Ultra HD 5.1-Channel Home T...</td>\n",
       "      <td>Worth it</td>\n",
       "      <td>4</td>\n",
       "      <td>Yamaha looks good and solid. Connectivity is g...</td>\n",
       "      <td>Yamaha Home Theatre</td>\n",
       "      <td>Home Theatre</td>\n",
       "      <td>Yamaha</td>\n",
       "      <td>B00HSGANB6</td>\n",
       "      <td>YHT-1840</td>\n",
       "      <td>Akshay</td>\n",
       "      <td>Amazon</td>\n",
       "      <td>www.amazon.in</td>\n",
       "    </tr>\n",
       "    <tr>\n",
       "      <th>4</th>\n",
       "      <td>Yamaha YHT-1840 4K Ultra HD 5.1-Channel Home T...</td>\n",
       "      <td>Wrong AVR model sent | Warranty risk!!</td>\n",
       "      <td>2</td>\n",
       "      <td>Good quality amplifier but NO Bluetooth or Dol...</td>\n",
       "      <td>Yamaha Home Theatre</td>\n",
       "      <td>Home Theatre</td>\n",
       "      <td>Yamaha</td>\n",
       "      <td>B11HH624J8</td>\n",
       "      <td>YHT-1840</td>\n",
       "      <td>Akshay</td>\n",
       "      <td>Amazon</td>\n",
       "      <td>www.amazon.in</td>\n",
       "    </tr>\n",
       "  </tbody>\n",
       "</table>\n",
       "</div>"
      ],
      "text/plain": [
       "                                            products  \\\n",
       "0  Yamaha YHT-1840 4K Ultra HD 5.1-Channel Home T...   \n",
       "1  Yamaha YHT-1840 4K Ultra HD 5.1-Channel Home T...   \n",
       "2  Yamaha YHT-1840 4K Ultra HD 5.1-Channel Home T...   \n",
       "3  Yamaha YHT-1840 4K Ultra HD 5.1-Channel Home T...   \n",
       "4  Yamaha YHT-1840 4K Ultra HD 5.1-Channel Home T...   \n",
       "\n",
       "                                            title  rating  \\\n",
       "0  Budget AV receiver struggling 4K passthrough!!       4   \n",
       "1            WARRANTY VOID FOR ONLINE PURCHASE!!!       4   \n",
       "2     Setup information to get dolby sound effect       5   \n",
       "3                                        Worth it       4   \n",
       "4          Wrong AVR model sent | Warranty risk!!       2   \n",
       "\n",
       "                                                body            Reference  \\\n",
       "0  I got this for ₹27k in Amazon festival sale. C...  Yamaha Home Theatre   \n",
       "1  First of all, don't buy Yamaha sound systems o...  Yamaha Home Theatre   \n",
       "2  Absolutely in this price segment it is a good ...  Yamaha Home Theatre   \n",
       "3  Yamaha looks good and solid. Connectivity is g...  Yamaha Home Theatre   \n",
       "4  Good quality amplifier but NO Bluetooth or Dol...  Yamaha Home Theatre   \n",
       "\n",
       "           Type Company       asins     Model Webscraped by Website  \\\n",
       "0  Home Theatre  Yamaha  B005PB2T01  YHT-1840        Akshay  Amazon   \n",
       "1  Home Theatre  Yamaha  B01KH67HG3  YHT-1840        Akshay  Amazon   \n",
       "2  Home Theatre  Yamaha  B72HSF562A  YHT-1840        Akshay  Amazon   \n",
       "3  Home Theatre  Yamaha  B00HSGANB6  YHT-1840        Akshay  Amazon   \n",
       "4  Home Theatre  Yamaha  B11HH624J8  YHT-1840        Akshay  Amazon   \n",
       "\n",
       "    Website link  \n",
       "0  www.amazon.in  \n",
       "1  www.amazon.in  \n",
       "2  www.amazon.in  \n",
       "3  www.amazon.in  \n",
       "4  www.amazon.in  "
      ]
     },
     "execution_count": 12,
     "metadata": {},
     "output_type": "execute_result"
    }
   ],
   "source": [
    "df.head()"
   ]
  },
  {
   "cell_type": "code",
   "execution_count": 13,
   "metadata": {},
   "outputs": [
    {
     "data": {
      "text/html": [
       "<div>\n",
       "<style scoped>\n",
       "    .dataframe tbody tr th:only-of-type {\n",
       "        vertical-align: middle;\n",
       "    }\n",
       "\n",
       "    .dataframe tbody tr th {\n",
       "        vertical-align: top;\n",
       "    }\n",
       "\n",
       "    .dataframe thead th {\n",
       "        text-align: right;\n",
       "    }\n",
       "</style>\n",
       "<table border=\"1\" class=\"dataframe\">\n",
       "  <thead>\n",
       "    <tr style=\"text-align: right;\">\n",
       "      <th></th>\n",
       "      <th>rating</th>\n",
       "    </tr>\n",
       "  </thead>\n",
       "  <tbody>\n",
       "    <tr>\n",
       "      <th>count</th>\n",
       "      <td>1108.000000</td>\n",
       "    </tr>\n",
       "    <tr>\n",
       "      <th>mean</th>\n",
       "      <td>3.738267</td>\n",
       "    </tr>\n",
       "    <tr>\n",
       "      <th>std</th>\n",
       "      <td>1.597790</td>\n",
       "    </tr>\n",
       "    <tr>\n",
       "      <th>min</th>\n",
       "      <td>1.000000</td>\n",
       "    </tr>\n",
       "    <tr>\n",
       "      <th>25%</th>\n",
       "      <td>3.000000</td>\n",
       "    </tr>\n",
       "    <tr>\n",
       "      <th>50%</th>\n",
       "      <td>5.000000</td>\n",
       "    </tr>\n",
       "    <tr>\n",
       "      <th>75%</th>\n",
       "      <td>5.000000</td>\n",
       "    </tr>\n",
       "    <tr>\n",
       "      <th>max</th>\n",
       "      <td>5.000000</td>\n",
       "    </tr>\n",
       "  </tbody>\n",
       "</table>\n",
       "</div>"
      ],
      "text/plain": [
       "            rating\n",
       "count  1108.000000\n",
       "mean      3.738267\n",
       "std       1.597790\n",
       "min       1.000000\n",
       "25%       3.000000\n",
       "50%       5.000000\n",
       "75%       5.000000\n",
       "max       5.000000"
      ]
     },
     "execution_count": 13,
     "metadata": {},
     "output_type": "execute_result"
    }
   ],
   "source": [
    "data = df.copy()\n",
    "data.describe()\n",
    "#Tried making a copy of the dataset I have optained"
   ]
  },
  {
   "cell_type": "code",
   "execution_count": 14,
   "metadata": {},
   "outputs": [
    {
     "name": "stdout",
     "output_type": "stream",
     "text": [
      "<class 'pandas.core.frame.DataFrame'>\n",
      "RangeIndex: 1108 entries, 0 to 1107\n",
      "Data columns (total 12 columns):\n",
      " #   Column         Non-Null Count  Dtype \n",
      "---  ------         --------------  ----- \n",
      " 0   products       1108 non-null   object\n",
      " 1   title          1108 non-null   object\n",
      " 2   rating         1108 non-null   int64 \n",
      " 3   body           1108 non-null   object\n",
      " 4   Reference      1108 non-null   object\n",
      " 5   Type           1108 non-null   object\n",
      " 6   Company        1108 non-null   object\n",
      " 7   asins          1108 non-null   object\n",
      " 8   Model          1108 non-null   object\n",
      " 9   Webscraped by  1108 non-null   object\n",
      " 10  Website        1108 non-null   object\n",
      " 11  Website link   1108 non-null   object\n",
      "dtypes: int64(1), object(11)\n",
      "memory usage: 104.0+ KB\n"
     ]
    }
   ],
   "source": [
    "data.info()"
   ]
  },
  {
   "cell_type": "code",
   "execution_count": 15,
   "metadata": {},
   "outputs": [
    {
     "data": {
      "text/plain": [
       "array(['B005PB2T01', 'B01KH67HG3', 'B72HSF562A', 'B00HSGANB6',\n",
       "       'B11HH624J8', 'B26GSBAJ54', 'B8JSH56G6A', 'B25GS8MD5G',\n",
       "       'B12NAHS674', 'B00DGA12H5', 'B11MNFB5H3', 'B01BA5H8L1',\n",
       "       'B11HM87GBA', 'B7VA6HS54G', 'B18NBA62B9', 'B98VSD1G2G',\n",
       "       'B56GHAS12A', 'B3NM78ZX89'], dtype=object)"
      ]
     },
     "execution_count": 15,
     "metadata": {},
     "output_type": "execute_result"
    }
   ],
   "source": [
    "data[\"asins\"].unique()\n",
    "#checking ho my asins have been grouped along"
   ]
  },
  {
   "cell_type": "code",
   "execution_count": 16,
   "metadata": {},
   "outputs": [
    {
     "name": "stdout",
     "output_type": "stream",
     "text": [
      "Number of Unique ASINs: 18\n"
     ]
    }
   ],
   "source": [
    "asins_unique = len(data[\"asins\"].unique())\n",
    "print(\"Number of Unique ASINs: \" + str(asins_unique))"
   ]
  },
  {
   "cell_type": "code",
   "execution_count": 17,
   "metadata": {},
   "outputs": [
    {
     "data": {
      "image/png": "[encoded data removed]",
      "text/plain": [
       "<Figure size 1440x1080 with 1 Axes>"
      ]
     },
     "metadata": {},
     "output_type": "display_data"
    }
   ],
   "source": [
    "data.hist(bins=50, figsize=(20,15)) # builds histogram and set the number of bins and fig size (width, height)\n",
    "plt.show()\n",
    "#Checking how my dataset has been distributed along side of the graph"
   ]
  },
  {
   "cell_type": "code",
   "execution_count": 18,
   "metadata": {},
   "outputs": [
    {
     "name": "stdout",
     "output_type": "stream",
     "text": [
      "Before 1108\n",
      "After 1108\n"
     ]
    }
   ],
   "source": [
    "from sklearn.model_selection import StratifiedShuffleSplit\n",
    "print(\"Before {}\".format(len(data)))\n",
    "dataAfter = data.dropna(subset=[\"rating\"]) # removes all NAN in reviews.rating\n",
    "print(\"After {}\".format(len(dataAfter)))\n",
    "dataAfter[\"rating\"] = dataAfter[\"rating\"].astype(int)"
   ]
  },
  {
   "cell_type": "code",
   "execution_count": 19,
   "metadata": {},
   "outputs": [],
   "source": [
    "split = StratifiedShuffleSplit(n_splits=5, test_size=0.2)\n",
    "for train_index, test_index in split.split(dataAfter, dataAfter[\"rating\"]): \n",
    "    strat_train = dataAfter.reindex(train_index)\n",
    "    strat_test = dataAfter.reindex(test_index)"
   ]
  },
  {
   "cell_type": "code",
   "execution_count": 20,
   "metadata": {},
   "outputs": [
    {
     "data": {
      "text/plain": [
       "886"
      ]
     },
     "execution_count": 20,
     "metadata": {},
     "output_type": "execute_result"
    }
   ],
   "source": [
    "len(strat_train)"
   ]
  },
  {
   "cell_type": "code",
   "execution_count": 21,
   "metadata": {},
   "outputs": [
    {
     "data": {
      "text/plain": [
       "5    0.519187\n",
       "1    0.205418\n",
       "4    0.154628\n",
       "3    0.077878\n",
       "2    0.042889\n",
       "Name: rating, dtype: float64"
      ]
     },
     "execution_count": 21,
     "metadata": {},
     "output_type": "execute_result"
    }
   ],
   "source": [
    "strat_train[\"rating\"].value_counts()/len(strat_train) # value_count() counts all the values based on column"
   ]
  },
  {
   "cell_type": "code",
   "execution_count": 22,
   "metadata": {},
   "outputs": [
    {
     "data": {
      "text/plain": [
       "222"
      ]
     },
     "execution_count": 22,
     "metadata": {},
     "output_type": "execute_result"
    }
   ],
   "source": [
    "len(strat_test)"
   ]
  },
  {
   "cell_type": "code",
   "execution_count": 23,
   "metadata": {},
   "outputs": [
    {
     "data": {
      "text/plain": [
       "5    0.518018\n",
       "1    0.207207\n",
       "4    0.153153\n",
       "3    0.081081\n",
       "2    0.040541\n",
       "Name: rating, dtype: float64"
      ]
     },
     "execution_count": 23,
     "metadata": {},
     "output_type": "execute_result"
    }
   ],
   "source": [
    "\n",
    "strat_test[\"rating\"].value_counts()/len(strat_test)"
   ]
  },
  {
   "cell_type": "code",
   "execution_count": 24,
   "metadata": {},
   "outputs": [
    {
     "data": {
      "text/html": [
       "<div>\n",
       "<style scoped>\n",
       "    .dataframe tbody tr th:only-of-type {\n",
       "        vertical-align: middle;\n",
       "    }\n",
       "\n",
       "    .dataframe tbody tr th {\n",
       "        vertical-align: top;\n",
       "    }\n",
       "\n",
       "    .dataframe thead th {\n",
       "        text-align: right;\n",
       "    }\n",
       "</style>\n",
       "<table border=\"1\" class=\"dataframe\">\n",
       "  <thead>\n",
       "    <tr style=\"text-align: right;\">\n",
       "      <th></th>\n",
       "      <th>products</th>\n",
       "      <th>title</th>\n",
       "      <th>rating</th>\n",
       "      <th>body</th>\n",
       "      <th>Reference</th>\n",
       "      <th>Type</th>\n",
       "      <th>Company</th>\n",
       "      <th>asins</th>\n",
       "      <th>Model</th>\n",
       "      <th>Webscraped by</th>\n",
       "      <th>Website</th>\n",
       "      <th>Website link</th>\n",
       "    </tr>\n",
       "  </thead>\n",
       "  <tbody>\n",
       "    <tr>\n",
       "      <th>191</th>\n",
       "      <td>Zebronics Wired Keyboard and Mouse Combo with ...</td>\n",
       "      <td>Good</td>\n",
       "      <td>3</td>\n",
       "      <td>Good</td>\n",
       "      <td>Zebronics Wired Keyboard and Mouse Combo</td>\n",
       "      <td>Wired Keyboard and Mouse</td>\n",
       "      <td>Zebronics</td>\n",
       "      <td>B01BA5H8L1</td>\n",
       "      <td>JUDWAA 750</td>\n",
       "      <td>Akshay</td>\n",
       "      <td>Amazon</td>\n",
       "      <td>www.amazon.in</td>\n",
       "    </tr>\n",
       "    <tr>\n",
       "      <th>127</th>\n",
       "      <td>Zebronics Wired Keyboard and Mouse Combo with ...</td>\n",
       "      <td>Best</td>\n",
       "      <td>5</td>\n",
       "      <td>Best in this price</td>\n",
       "      <td>Zebronics Wired Keyboard and Mouse Combo</td>\n",
       "      <td>Wired Keyboard and Mouse</td>\n",
       "      <td>Zebronics</td>\n",
       "      <td>B01KH67HG3</td>\n",
       "      <td>JUDWAA 750</td>\n",
       "      <td>Akshay</td>\n",
       "      <td>Amazon</td>\n",
       "      <td>www.amazon.in</td>\n",
       "    </tr>\n",
       "  </tbody>\n",
       "</table>\n",
       "</div>"
      ],
      "text/plain": [
       "                                              products title  rating  \\\n",
       "191  Zebronics Wired Keyboard and Mouse Combo with ...  Good       3   \n",
       "127  Zebronics Wired Keyboard and Mouse Combo with ...  Best       5   \n",
       "\n",
       "                   body                                 Reference  \\\n",
       "191                Good  Zebronics Wired Keyboard and Mouse Combo   \n",
       "127  Best in this price  Zebronics Wired Keyboard and Mouse Combo   \n",
       "\n",
       "                         Type    Company       asins       Model  \\\n",
       "191  Wired Keyboard and Mouse  Zebronics  B01BA5H8L1  JUDWAA 750   \n",
       "127  Wired Keyboard and Mouse  Zebronics  B01KH67HG3  JUDWAA 750   \n",
       "\n",
       "    Webscraped by Website   Website link  \n",
       "191        Akshay  Amazon  www.amazon.in  \n",
       "127        Akshay  Amazon  www.amazon.in  "
      ]
     },
     "execution_count": 24,
     "metadata": {},
     "output_type": "execute_result"
    }
   ],
   "source": [
    "reviews = strat_train.copy()\n",
    "reviews.head(2)"
   ]
  },
  {
   "cell_type": "code",
   "execution_count": 25,
   "metadata": {},
   "outputs": [
    {
     "data": {
      "text/plain": [
       "(13, 18)"
      ]
     },
     "execution_count": 25,
     "metadata": {},
     "output_type": "execute_result"
    }
   ],
   "source": [
    "len(reviews[\"products\"].unique()), len(reviews[\"asins\"].unique())"
   ]
  },
  {
   "cell_type": "code",
   "execution_count": 26,
   "metadata": {},
   "outputs": [
    {
     "name": "stdout",
     "output_type": "stream",
     "text": [
      "<class 'pandas.core.frame.DataFrame'>\n",
      "Int64Index: 886 entries, 191 to 637\n",
      "Data columns (total 12 columns):\n",
      " #   Column         Non-Null Count  Dtype \n",
      "---  ------         --------------  ----- \n",
      " 0   products       886 non-null    object\n",
      " 1   title          886 non-null    object\n",
      " 2   rating         886 non-null    int32 \n",
      " 3   body           886 non-null    object\n",
      " 4   Reference      886 non-null    object\n",
      " 5   Type           886 non-null    object\n",
      " 6   Company        886 non-null    object\n",
      " 7   asins          886 non-null    object\n",
      " 8   Model          886 non-null    object\n",
      " 9   Webscraped by  886 non-null    object\n",
      " 10  Website        886 non-null    object\n",
      " 11  Website link   886 non-null    object\n",
      "dtypes: int32(1), object(11)\n",
      "memory usage: 86.5+ KB\n"
     ]
    }
   ],
   "source": [
    "reviews.info()"
   ]
  },
  {
   "cell_type": "code",
   "execution_count": 27,
   "metadata": {},
   "outputs": [
    {
     "data": {
      "text/plain": [
       "asins\n",
       "B005PB2T01    [Fire TV Stick Lite with Alexa Voice Remote Li...\n",
       "B00DGA12H5    [Sony Bravia 164 cm (65 inches) 4K Ultra HD Sm...\n",
       "B00HSGANB6    [Zebronics Wired Keyboard and Mouse Combo with...\n",
       "B01BA5H8L1    [Zebronics Wired Keyboard and Mouse Combo with...\n",
       "B01KH67HG3    [Zebronics Wired Keyboard and Mouse Combo with...\n",
       "B11HH624J8    [Apple iPhone 13 Pro Max (256GB) - Graphite, Z...\n",
       "B11HM87GBA    [Dyson V10 Absolute Cord-Free Vacuum Cleaner, ...\n",
       "B11MNFB5H3    [Fire TV Stick Lite with Alexa Voice Remote Li...\n",
       "B12NAHS674    [HP Ink Tank 415 WiFi Colour Printer, High Cap...\n",
       "B18NBA62B9    [Fire TV Stick Lite with Alexa Voice Remote Li...\n",
       "B25GS8MD5G    [Apple iPhone 13 Pro (128GB) - Silver, Zebroni...\n",
       "B26GSBAJ54    [Apple iPhone 13 Pro (128GB) - Silver, Fire TV...\n",
       "B3NM78ZX89    [Zebronics Wired Keyboard and Mouse Combo with...\n",
       "B56GHAS12A    [Apple iPhone 13 Pro Max (256GB) - Graphite, S...\n",
       "B72HSF562A    [Apple iPhone 13 Pro Max (256GB) - Graphite, S...\n",
       "B7VA6HS54G    [Fire TV Stick Lite with Alexa Voice Remote Li...\n",
       "B8JSH56G6A    [Zebronics Wired Keyboard and Mouse Combo with...\n",
       "B98VSD1G2G    [Zebronics Wired Keyboard and Mouse Combo with...\n",
       "Name: products, dtype: object"
      ]
     },
     "execution_count": 27,
     "metadata": {},
     "output_type": "execute_result"
    }
   ],
   "source": [
    "reviews.groupby(\"asins\")[\"products\"].unique()"
   ]
  },
  {
   "cell_type": "code",
   "execution_count": 28,
   "metadata": {},
   "outputs": [
    {
     "data": {
      "image/png": "[encoded data removed]",
      "text/plain": [
       "<Figure size 1152x720 with 2 Axes>"
      ]
     },
     "metadata": {},
     "output_type": "display_data"
    }
   ],
   "source": [
    "fig = plt.figure(figsize=(16,10))\n",
    "ax1 = plt.subplot(211)\n",
    "ax2 = plt.subplot(212, sharex = ax1)\n",
    "reviews[\"asins\"].value_counts().plot(kind=\"bar\", ax=ax1, title=\"ASIN Frequency\")\n",
    "np.log10(reviews[\"asins\"].value_counts()).plot(kind=\"bar\", ax=ax2, title=\"ASIN Frequency (Log10 Adjusted)\") \n",
    "plt.show()"
   ]
  },
  {
   "cell_type": "code",
   "execution_count": 29,
   "metadata": {},
   "outputs": [
    {
     "data": {
      "text/plain": [
       "3.739277652370203"
      ]
     },
     "execution_count": 29,
     "metadata": {},
     "output_type": "execute_result"
    }
   ],
   "source": [
    "# Entire training dataset average rating\n",
    "reviews[\"rating\"].mean()"
   ]
  },
  {
   "cell_type": "code",
   "execution_count": 30,
   "metadata": {},
   "outputs": [
    {
     "data": {
      "image/png": "[encoded data removed]",
      "text/plain": [
       "<Figure size 1152x864 with 2 Axes>"
      ]
     },
     "metadata": {},
     "output_type": "display_data"
    }
   ],
   "source": [
    "asins_count_ix = reviews[\"asins\"].value_counts().index\n",
    "plt.subplots(2,1,figsize=(16,12))\n",
    "plt.subplot(2,1,1)\n",
    "reviews[\"asins\"].value_counts().plot(kind=\"bar\", title=\"ASIN Frequency\")\n",
    "plt.subplot(2,1,2)\n",
    "sns.pointplot(x=\"asins\", y=\"rating\", order=asins_count_ix, data=reviews)\n",
    "plt.xticks(rotation=90)\n",
    "plt.show()"
   ]
  },
  {
   "cell_type": "code",
   "execution_count": 31,
   "metadata": {},
   "outputs": [
    {
     "data": {
      "text/html": [
       "<div>\n",
       "<style scoped>\n",
       "    .dataframe tbody tr th:only-of-type {\n",
       "        vertical-align: middle;\n",
       "    }\n",
       "\n",
       "    .dataframe tbody tr th {\n",
       "        vertical-align: top;\n",
       "    }\n",
       "\n",
       "    .dataframe thead th {\n",
       "        text-align: right;\n",
       "    }\n",
       "</style>\n",
       "<table border=\"1\" class=\"dataframe\">\n",
       "  <thead>\n",
       "    <tr style=\"text-align: right;\">\n",
       "      <th></th>\n",
       "      <th>rating</th>\n",
       "    </tr>\n",
       "  </thead>\n",
       "  <tbody>\n",
       "    <tr>\n",
       "      <th>rating</th>\n",
       "      <td>1.0</td>\n",
       "    </tr>\n",
       "  </tbody>\n",
       "</table>\n",
       "</div>"
      ],
      "text/plain": [
       "        rating\n",
       "rating     1.0"
      ]
     },
     "execution_count": 31,
     "metadata": {},
     "output_type": "execute_result"
    }
   ],
   "source": [
    "corr_matrix = reviews.corr()\n",
    "corr_matrix\n",
    "# Here we can analyze reviews.ratings with asins"
   ]
  },
  {
   "cell_type": "code",
   "execution_count": 32,
   "metadata": {},
   "outputs": [
    {
     "name": "stdout",
     "output_type": "stream",
     "text": [
      "<class 'pandas.core.frame.DataFrame'>\n",
      "Int64Index: 886 entries, 191 to 637\n",
      "Data columns (total 12 columns):\n",
      " #   Column         Non-Null Count  Dtype \n",
      "---  ------         --------------  ----- \n",
      " 0   products       886 non-null    object\n",
      " 1   title          886 non-null    object\n",
      " 2   rating         886 non-null    int32 \n",
      " 3   body           886 non-null    object\n",
      " 4   Reference      886 non-null    object\n",
      " 5   Type           886 non-null    object\n",
      " 6   Company        886 non-null    object\n",
      " 7   asins          886 non-null    object\n",
      " 8   Model          886 non-null    object\n",
      " 9   Webscraped by  886 non-null    object\n",
      " 10  Website        886 non-null    object\n",
      " 11  Website link   886 non-null    object\n",
      "dtypes: int32(1), object(11)\n",
      "memory usage: 126.5+ KB\n"
     ]
    }
   ],
   "source": [
    "reviews.info()"
   ]
  },
  {
   "cell_type": "code",
   "execution_count": 33,
   "metadata": {},
   "outputs": [
    {
     "data": {
      "text/html": [
       "<div>\n",
       "<style scoped>\n",
       "    .dataframe tbody tr th:only-of-type {\n",
       "        vertical-align: middle;\n",
       "    }\n",
       "\n",
       "    .dataframe tbody tr th {\n",
       "        vertical-align: top;\n",
       "    }\n",
       "\n",
       "    .dataframe thead th {\n",
       "        text-align: right;\n",
       "    }\n",
       "</style>\n",
       "<table border=\"1\" class=\"dataframe\">\n",
       "  <thead>\n",
       "    <tr style=\"text-align: right;\">\n",
       "      <th></th>\n",
       "      <th>asins</th>\n",
       "    </tr>\n",
       "  </thead>\n",
       "  <tbody>\n",
       "    <tr>\n",
       "      <th>B25GS8MD5G</th>\n",
       "      <td>55</td>\n",
       "    </tr>\n",
       "    <tr>\n",
       "      <th>B11MNFB5H3</th>\n",
       "      <td>54</td>\n",
       "    </tr>\n",
       "    <tr>\n",
       "      <th>B8JSH56G6A</th>\n",
       "      <td>54</td>\n",
       "    </tr>\n",
       "    <tr>\n",
       "      <th>B00DGA12H5</th>\n",
       "      <td>53</td>\n",
       "    </tr>\n",
       "    <tr>\n",
       "      <th>B11HM87GBA</th>\n",
       "      <td>53</td>\n",
       "    </tr>\n",
       "  </tbody>\n",
       "</table>\n",
       "</div>"
      ],
      "text/plain": [
       "            asins\n",
       "B25GS8MD5G     55\n",
       "B11MNFB5H3     54\n",
       "B8JSH56G6A     54\n",
       "B00DGA12H5     53\n",
       "B11HM87GBA     53"
      ]
     },
     "execution_count": 33,
     "metadata": {},
     "output_type": "execute_result"
    }
   ],
   "source": [
    "counts = reviews[\"asins\"].value_counts().to_frame()\n",
    "counts.head()"
   ]
  },
  {
   "cell_type": "code",
   "execution_count": 34,
   "metadata": {},
   "outputs": [
    {
     "data": {
      "text/html": [
       "<div>\n",
       "<style scoped>\n",
       "    .dataframe tbody tr th:only-of-type {\n",
       "        vertical-align: middle;\n",
       "    }\n",
       "\n",
       "    .dataframe tbody tr th {\n",
       "        vertical-align: top;\n",
       "    }\n",
       "\n",
       "    .dataframe thead th {\n",
       "        text-align: right;\n",
       "    }\n",
       "</style>\n",
       "<table border=\"1\" class=\"dataframe\">\n",
       "  <thead>\n",
       "    <tr style=\"text-align: right;\">\n",
       "      <th></th>\n",
       "      <th>rating</th>\n",
       "    </tr>\n",
       "    <tr>\n",
       "      <th>asins</th>\n",
       "      <th></th>\n",
       "    </tr>\n",
       "  </thead>\n",
       "  <tbody>\n",
       "    <tr>\n",
       "      <th>B005PB2T01</th>\n",
       "      <td>3.116279</td>\n",
       "    </tr>\n",
       "    <tr>\n",
       "      <th>B00DGA12H5</th>\n",
       "      <td>3.792453</td>\n",
       "    </tr>\n",
       "    <tr>\n",
       "      <th>B00HSGANB6</th>\n",
       "      <td>3.711538</td>\n",
       "    </tr>\n",
       "    <tr>\n",
       "      <th>B01BA5H8L1</th>\n",
       "      <td>3.700000</td>\n",
       "    </tr>\n",
       "    <tr>\n",
       "      <th>B01KH67HG3</th>\n",
       "      <td>3.702128</td>\n",
       "    </tr>\n",
       "  </tbody>\n",
       "</table>\n",
       "</div>"
      ],
      "text/plain": [
       "              rating\n",
       "asins               \n",
       "B005PB2T01  3.116279\n",
       "B00DGA12H5  3.792453\n",
       "B00HSGANB6  3.711538\n",
       "B01BA5H8L1  3.700000\n",
       "B01KH67HG3  3.702128"
      ]
     },
     "execution_count": 34,
     "metadata": {},
     "output_type": "execute_result"
    }
   ],
   "source": [
    "avg_rating = reviews.groupby(\"asins\")[\"rating\"].mean().to_frame()\n",
    "avg_rating.head()"
   ]
  },
  {
   "cell_type": "code",
   "execution_count": 35,
   "metadata": {},
   "outputs": [
    {
     "data": {
      "text/html": [
       "<div>\n",
       "<style scoped>\n",
       "    .dataframe tbody tr th:only-of-type {\n",
       "        vertical-align: middle;\n",
       "    }\n",
       "\n",
       "    .dataframe tbody tr th {\n",
       "        vertical-align: top;\n",
       "    }\n",
       "\n",
       "    .dataframe thead th {\n",
       "        text-align: right;\n",
       "    }\n",
       "</style>\n",
       "<table border=\"1\" class=\"dataframe\">\n",
       "  <thead>\n",
       "    <tr style=\"text-align: right;\">\n",
       "      <th></th>\n",
       "      <th>asins</th>\n",
       "      <th>rating</th>\n",
       "    </tr>\n",
       "  </thead>\n",
       "  <tbody>\n",
       "    <tr>\n",
       "      <th>B25GS8MD5G</th>\n",
       "      <td>55</td>\n",
       "      <td>3.836364</td>\n",
       "    </tr>\n",
       "    <tr>\n",
       "      <th>B11MNFB5H3</th>\n",
       "      <td>54</td>\n",
       "      <td>3.703704</td>\n",
       "    </tr>\n",
       "    <tr>\n",
       "      <th>B8JSH56G6A</th>\n",
       "      <td>54</td>\n",
       "      <td>3.833333</td>\n",
       "    </tr>\n",
       "    <tr>\n",
       "      <th>B00DGA12H5</th>\n",
       "      <td>53</td>\n",
       "      <td>3.792453</td>\n",
       "    </tr>\n",
       "    <tr>\n",
       "      <th>B11HM87GBA</th>\n",
       "      <td>53</td>\n",
       "      <td>3.396226</td>\n",
       "    </tr>\n",
       "    <tr>\n",
       "      <th>B72HSF562A</th>\n",
       "      <td>53</td>\n",
       "      <td>3.849057</td>\n",
       "    </tr>\n",
       "    <tr>\n",
       "      <th>B00HSGANB6</th>\n",
       "      <td>52</td>\n",
       "      <td>3.711538</td>\n",
       "    </tr>\n",
       "    <tr>\n",
       "      <th>B01BA5H8L1</th>\n",
       "      <td>50</td>\n",
       "      <td>3.700000</td>\n",
       "    </tr>\n",
       "    <tr>\n",
       "      <th>B56GHAS12A</th>\n",
       "      <td>49</td>\n",
       "      <td>3.551020</td>\n",
       "    </tr>\n",
       "    <tr>\n",
       "      <th>B11HH624J8</th>\n",
       "      <td>49</td>\n",
       "      <td>3.795918</td>\n",
       "    </tr>\n",
       "    <tr>\n",
       "      <th>B12NAHS674</th>\n",
       "      <td>48</td>\n",
       "      <td>3.833333</td>\n",
       "    </tr>\n",
       "    <tr>\n",
       "      <th>B26GSBAJ54</th>\n",
       "      <td>48</td>\n",
       "      <td>3.770833</td>\n",
       "    </tr>\n",
       "    <tr>\n",
       "      <th>B01KH67HG3</th>\n",
       "      <td>47</td>\n",
       "      <td>3.702128</td>\n",
       "    </tr>\n",
       "    <tr>\n",
       "      <th>B3NM78ZX89</th>\n",
       "      <td>46</td>\n",
       "      <td>3.608696</td>\n",
       "    </tr>\n",
       "    <tr>\n",
       "      <th>B18NBA62B9</th>\n",
       "      <td>44</td>\n",
       "      <td>4.000000</td>\n",
       "    </tr>\n",
       "    <tr>\n",
       "      <th>B7VA6HS54G</th>\n",
       "      <td>44</td>\n",
       "      <td>4.068182</td>\n",
       "    </tr>\n",
       "    <tr>\n",
       "      <th>B98VSD1G2G</th>\n",
       "      <td>44</td>\n",
       "      <td>4.045455</td>\n",
       "    </tr>\n",
       "    <tr>\n",
       "      <th>B005PB2T01</th>\n",
       "      <td>43</td>\n",
       "      <td>3.116279</td>\n",
       "    </tr>\n",
       "  </tbody>\n",
       "</table>\n",
       "</div>"
      ],
      "text/plain": [
       "            asins    rating\n",
       "B25GS8MD5G     55  3.836364\n",
       "B11MNFB5H3     54  3.703704\n",
       "B8JSH56G6A     54  3.833333\n",
       "B00DGA12H5     53  3.792453\n",
       "B11HM87GBA     53  3.396226\n",
       "B72HSF562A     53  3.849057\n",
       "B00HSGANB6     52  3.711538\n",
       "B01BA5H8L1     50  3.700000\n",
       "B56GHAS12A     49  3.551020\n",
       "B11HH624J8     49  3.795918\n",
       "B12NAHS674     48  3.833333\n",
       "B26GSBAJ54     48  3.770833\n",
       "B01KH67HG3     47  3.702128\n",
       "B3NM78ZX89     46  3.608696\n",
       "B18NBA62B9     44  4.000000\n",
       "B7VA6HS54G     44  4.068182\n",
       "B98VSD1G2G     44  4.045455\n",
       "B005PB2T01     43  3.116279"
      ]
     },
     "execution_count": 35,
     "metadata": {},
     "output_type": "execute_result"
    }
   ],
   "source": [
    "table = counts.join(avg_rating)\n",
    "table.head(30)"
   ]
  },
  {
   "cell_type": "code",
   "execution_count": 36,
   "metadata": {},
   "outputs": [
    {
     "data": {
      "text/html": [
       "<div>\n",
       "<style scoped>\n",
       "    .dataframe tbody tr th:only-of-type {\n",
       "        vertical-align: middle;\n",
       "    }\n",
       "\n",
       "    .dataframe tbody tr th {\n",
       "        vertical-align: top;\n",
       "    }\n",
       "\n",
       "    .dataframe thead th {\n",
       "        text-align: right;\n",
       "    }\n",
       "</style>\n",
       "<table border=\"1\" class=\"dataframe\">\n",
       "  <thead>\n",
       "    <tr style=\"text-align: right;\">\n",
       "      <th></th>\n",
       "      <th>asins</th>\n",
       "      <th>rating</th>\n",
       "    </tr>\n",
       "  </thead>\n",
       "  <tbody>\n",
       "    <tr>\n",
       "      <th>asins</th>\n",
       "      <td>1.000000</td>\n",
       "      <td>-0.024066</td>\n",
       "    </tr>\n",
       "    <tr>\n",
       "      <th>rating</th>\n",
       "      <td>-0.024066</td>\n",
       "      <td>1.000000</td>\n",
       "    </tr>\n",
       "  </tbody>\n",
       "</table>\n",
       "</div>"
      ],
      "text/plain": [
       "           asins    rating\n",
       "asins   1.000000 -0.024066\n",
       "rating -0.024066  1.000000"
      ]
     },
     "execution_count": 36,
     "metadata": {},
     "output_type": "execute_result"
    },
    {
     "data": {
      "image/png": "[encoded data removed]",
      "text/plain": [
       "<Figure size 432x288 with 1 Axes>"
      ]
     },
     "metadata": {},
     "output_type": "display_data"
    }
   ],
   "source": [
    "plt.scatter(\"asins\", \"rating\", data=table)\n",
    "table.corr()"
   ]
  },
  {
   "cell_type": "code",
   "execution_count": 37,
   "metadata": {},
   "outputs": [
    {
     "data": {
      "text/plain": [
       "191      Neutral\n",
       "127     Positive\n",
       "958     Positive\n",
       "662     Positive\n",
       "161     Negative\n",
       "1070    Positive\n",
       "209      Neutral\n",
       "515     Positive\n",
       "114     Positive\n",
       "320     Negative\n",
       "444     Positive\n",
       "159     Negative\n",
       "1033    Positive\n",
       "1013    Positive\n",
       "202     Positive\n",
       "532     Positive\n",
       "912     Negative\n",
       "640     Positive\n",
       "612     Positive\n",
       "894     Positive\n",
       "Name: Sentiment, dtype: object"
      ]
     },
     "execution_count": 37,
     "metadata": {},
     "output_type": "execute_result"
    }
   ],
   "source": [
    "def sentiments(rating):\n",
    "    if (rating == 5) or (rating == 4):\n",
    "        return \"Positive\"\n",
    "    elif rating == 3:\n",
    "        return \"Neutral\"\n",
    "    elif (rating == 2) or (rating == 1):\n",
    "        return \"Negative\"\n",
    "# Add sentiments to the data\n",
    "strat_train[\"Sentiment\"] = strat_train[\"rating\"].apply(sentiments)\n",
    "strat_test[\"Sentiment\"] = strat_test[\"rating\"].apply(sentiments)\n",
    "strat_train[\"Sentiment\"][:20]"
   ]
  },
  {
   "cell_type": "code",
   "execution_count": 38,
   "metadata": {},
   "outputs": [
    {
     "name": "stdout",
     "output_type": "stream",
     "text": [
      "886 222\n"
     ]
    }
   ],
   "source": [
    "# Prepare data\n",
    "X_train = strat_train[\"body\"]\n",
    "X_train_targetSentiment = strat_train[\"Sentiment\"]\n",
    "X_test = strat_test[\"body\"]\n",
    "X_test_targetSentiment = strat_test[\"Sentiment\"]\n",
    "print(len(X_train), len(X_test))"
   ]
  },
  {
   "cell_type": "code",
   "execution_count": 39,
   "metadata": {},
   "outputs": [
    {
     "data": {
      "text/plain": [
       "(886, 4237)"
      ]
     },
     "execution_count": 39,
     "metadata": {},
     "output_type": "execute_result"
    }
   ],
   "source": [
    "# Replace \"nan\" with space\n",
    "X_train = X_train.fillna(' ')\n",
    "X_test = X_test.fillna(' ')\n",
    "X_train_targetSentiment = X_train_targetSentiment.fillna(' ')\n",
    "X_test_targetSentiment = X_test_targetSentiment.fillna(' ')\n",
    "\n",
    "# Text preprocessing and occurance counting\n",
    "from sklearn.feature_extraction.text import CountVectorizer \n",
    "count_vect = CountVectorizer()\n",
    "X_train_counts = count_vect.fit_transform(X_train) \n",
    "X_train_counts.shape"
   ]
  },
  {
   "cell_type": "code",
   "execution_count": 40,
   "metadata": {},
   "outputs": [
    {
     "data": {
      "text/plain": [
       "(886, 4237)"
      ]
     },
     "execution_count": 40,
     "metadata": {},
     "output_type": "execute_result"
    }
   ],
   "source": [
    "from sklearn.feature_extraction.text import TfidfTransformer\n",
    "tfidf_transformer = TfidfTransformer(use_idf=False)\n",
    "X_train_tfidf = tfidf_transformer.fit_transform(X_train_counts)\n",
    "X_train_tfidf.shape"
   ]
  },
  {
   "cell_type": "code",
   "execution_count": 41,
   "metadata": {},
   "outputs": [
    {
     "data": {
      "text/plain": [
       "Pipeline(steps=[('vect', CountVectorizer()), ('tfidf', TfidfTransformer()),\n",
       "                ('clf_nominalNB', MultinomialNB())])"
      ]
     },
     "execution_count": 41,
     "metadata": {},
     "output_type": "execute_result"
    }
   ],
   "source": [
    "from sklearn.naive_bayes import MultinomialNB\n",
    "from sklearn.pipeline import Pipeline\n",
    "clf_multiNB_pipe = Pipeline([(\"vect\", CountVectorizer()), (\"tfidf\", TfidfTransformer()), (\"clf_nominalNB\", MultinomialNB())])\n",
    "clf_multiNB_pipe.fit(X_train, X_train_targetSentiment)"
   ]
  },
  {
   "cell_type": "code",
   "execution_count": 42,
   "metadata": {},
   "outputs": [
    {
     "data": {
      "text/plain": [
       "0.6801801801801802"
      ]
     },
     "execution_count": 42,
     "metadata": {},
     "output_type": "execute_result"
    }
   ],
   "source": [
    "import numpy as np\n",
    "predictedMultiNB = clf_multiNB_pipe.predict(X_test)\n",
    "np.mean(predictedMultiNB == X_test_targetSentiment)"
   ]
  },
  {
   "cell_type": "markdown",
   "metadata": {},
   "source": [
    "# Logistic Regression"
   ]
  },
  {
   "cell_type": "code",
   "execution_count": 43,
   "metadata": {},
   "outputs": [
    {
     "data": {
      "text/plain": [
       "0.7882882882882883"
      ]
     },
     "execution_count": 43,
     "metadata": {},
     "output_type": "execute_result"
    }
   ],
   "source": [
    "from sklearn.linear_model import LogisticRegression\n",
    "from sklearn.pipeline import Pipeline\n",
    "clf_logReg_pipe = Pipeline([(\"vect\", CountVectorizer()), (\"tfidf\", TfidfTransformer()), (\"clf_logReg\", LogisticRegression())])\n",
    "clf_logReg_pipe.fit(X_train, X_train_targetSentiment)\n",
    "\n",
    "import numpy as np\n",
    "predictedLogReg = clf_logReg_pipe.predict(X_test)\n",
    "np.mean(predictedLogReg == X_test_targetSentiment)"
   ]
  },
  {
   "cell_type": "markdown",
   "metadata": {},
   "source": [
    "# SVM"
   ]
  },
  {
   "cell_type": "code",
   "execution_count": 44,
   "metadata": {},
   "outputs": [
    {
     "data": {
      "text/plain": [
       "0.8108108108108109"
      ]
     },
     "execution_count": 44,
     "metadata": {},
     "output_type": "execute_result"
    }
   ],
   "source": [
    "from sklearn.svm import LinearSVC\n",
    "clf_linearSVC_pipe = Pipeline([(\"vect\", CountVectorizer()), (\"tfidf\", TfidfTransformer()), (\"clf_linearSVC\", LinearSVC())])\n",
    "clf_linearSVC_pipe.fit(X_train, X_train_targetSentiment)\n",
    "\n",
    "predictedLinearSVC = clf_linearSVC_pipe.predict(X_test)\n",
    "np.mean(predictedLinearSVC == X_test_targetSentiment)"
   ]
  },
  {
   "cell_type": "markdown",
   "metadata": {},
   "source": [
    "# Decission Tree Classifier"
   ]
  },
  {
   "cell_type": "code",
   "execution_count": 45,
   "metadata": {},
   "outputs": [
    {
     "data": {
      "text/plain": [
       "0.6756756756756757"
      ]
     },
     "execution_count": 45,
     "metadata": {},
     "output_type": "execute_result"
    }
   ],
   "source": [
    "from sklearn.tree import DecisionTreeClassifier\n",
    "clf_decisionTree_pipe = Pipeline([(\"vect\", CountVectorizer()), (\"tfidf\", TfidfTransformer()), \n",
    "                                  (\"clf_decisionTree\", DecisionTreeClassifier())])\n",
    "clf_decisionTree_pipe.fit(X_train, X_train_targetSentiment)\n",
    "\n",
    "predictedDecisionTree = clf_decisionTree_pipe.predict(X_test)\n",
    "np.mean(predictedDecisionTree == X_test_targetSentiment)"
   ]
  },
  {
   "cell_type": "markdown",
   "metadata": {},
   "source": [
    "# Random Forrest CLassifier"
   ]
  },
  {
   "cell_type": "code",
   "execution_count": 46,
   "metadata": {},
   "outputs": [
    {
     "data": {
      "text/plain": [
       "0.7792792792792793"
      ]
     },
     "execution_count": 46,
     "metadata": {},
     "output_type": "execute_result"
    }
   ],
   "source": [
    "from sklearn.ensemble import RandomForestClassifier\n",
    "clf_randomForest_pipe = Pipeline([(\"vect\", CountVectorizer()), (\"tfidf\", TfidfTransformer()), (\"clf_randomForest\", RandomForestClassifier())])\n",
    "clf_randomForest_pipe.fit(X_train, X_train_targetSentiment)\n",
    "\n",
    "predictedRandomForest = clf_randomForest_pipe.predict(X_test)\n",
    "np.mean(predictedRandomForest == X_test_targetSentiment)"
   ]
  },
  {
   "cell_type": "markdown",
   "metadata": {},
   "source": [
    "# Saving the best model"
   ]
  },
  {
   "cell_type": "code",
   "execution_count": 47,
   "metadata": {},
   "outputs": [],
   "source": [
    "import pickle\n",
    "ecommerce_model = 'finalized_model.pickle'\n",
    "pickle.dump(clf_linearSVC_pipe,open(ecommerce_model,'wb'))"
   ]
  },
  {
   "cell_type": "code",
   "execution_count": null,
   "metadata": {},
   "outputs": [],
   "source": []
  }
 ],
 "metadata": {
  "kernelspec": {
   "display_name": "Python 3",
   "language": "python",
   "name": "python3"
  },
  "language_info": {
   "codemirror_mode": {
    "name": "ipython",
    "version": 3
   },
   "file_extension": ".py",
   "mimetype": "text/x-python",
   "name": "python",
   "nbconvert_exporter": "python",
   "pygments_lexer": "ipython3",
   "version": "3.8.5"
  }
 },
 "nbformat": 4,
 "nbformat_minor": 4
}
